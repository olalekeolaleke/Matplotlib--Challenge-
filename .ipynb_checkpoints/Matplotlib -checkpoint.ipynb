{
 "cells": [
  {
   "cell_type": "code",
   "execution_count": 1,
   "id": "47fa2008",
   "metadata": {},
   "outputs": [],
   "source": [
    "%matplotlib notebook"
   ]
  },
  {
   "cell_type": "code",
   "execution_count": 2,
   "id": "5e70dd16",
   "metadata": {},
   "outputs": [],
   "source": [
    "# Dependencies and Setup\n",
    "import matplotlib.pyplot as plt\n",
    "import pandas as pd\n",
    "import scipy.stats as st\n",
    "import numpy as np\n",
    "import statistics as stat\n",
    "from scipy.stats import linregress\n",
    "%matplotlib inline"
   ]
  },
  {
   "cell_type": "code",
   "execution_count": 7,
   "id": "9cf2634d",
   "metadata": {},
   "outputs": [],
   "source": [
    "# Study data files\n",
    "mouse_metadata_df = pd.read_csv(\"Resources/Mouse_metadata.csv\")\n",
    "study_results_df = pd.read_csv(\"Resources/Study_results.csv\")"
   ]
  },
  {
   "cell_type": "code",
   "execution_count": null,
   "id": "cdfe09ff",
   "metadata": {},
   "outputs": [],
   "source": [
    "# Loading the Mouse Metadata dataset into Pandas DataFrame\n",
    "mouse_metadata_df.head()"
   ]
  },
  {
   "cell_type": "code",
   "execution_count": null,
   "id": "f10fbedf",
   "metadata": {},
   "outputs": [],
   "source": [
    "# Loading the Study Result dataset into Pandas DataFrame\n",
    "study_results_df"
   ]
  },
  {
   "cell_type": "code",
   "execution_count": null,
   "id": "0a69c84a",
   "metadata": {},
   "outputs": [],
   "source": [
    "# Combining the data into a single dataset\n",
    "\n",
    "combined_df = pd.merge(mouse_metadata_df, study_results_df, how=\"left\", on=[\"Mouse ID\"])\n",
    "combined_df"
   ]
  },
  {
   "cell_type": "code",
   "execution_count": null,
   "id": "10c2380b",
   "metadata": {},
   "outputs": [],
   "source": [
    "# Checking the number of mice in the Merged DataFrame.\n",
    "total_mice = combined_df['Mouse ID'].unique()\n",
    "len(total_mice)"
   ]
  },
  {
   "cell_type": "code",
   "execution_count": null,
   "id": "90fe570c",
   "metadata": {},
   "outputs": [],
   "source": [
    "# Checking the number of mice.\n",
    "total_mice = combined_df[\"Mouse ID\"].value_counts()\n",
    "total_mice"
   ]
  },
  {
   "cell_type": "code",
   "execution_count": null,
   "id": "fb7998e8",
   "metadata": {
    "scrolled": true
   },
   "outputs": [],
   "source": [
    "# Checking for duplicates in Mouse ID\n",
    "combined_df.loc[combined_df[\"Mouse ID\"]== \"g989\"]"
   ]
  },
  {
   "cell_type": "code",
   "execution_count": null,
   "id": "bc690497",
   "metadata": {},
   "outputs": [],
   "source": [
    "# Getting the duplicate mice by ID number that shows up for Mouse ID and Timepoint\n",
    "combined_df.loc[combined_df.duplicated(subset=[\"Mouse ID\",\"Timepoint\"])]"
   ]
  },
  {
   "cell_type": "code",
   "execution_count": null,
   "id": "d96bcfb6",
   "metadata": {},
   "outputs": [],
   "source": [
    "# Checking for Mouse ID that does not equal duplicated ID\n",
    "clean_df= combined_df.loc[combined_df[\"Mouse ID\"] != \"g989\"]\n",
    "clean_df.head()"
   ]
  },
  {
   "cell_type": "code",
   "execution_count": null,
   "id": "fe449217",
   "metadata": {},
   "outputs": [],
   "source": [
    "clean_df.shape"
   ]
  },
  {
   "cell_type": "code",
   "execution_count": null,
   "id": "88993983",
   "metadata": {},
   "outputs": [],
   "source": [
    "# Checking the number of mice in the clean DataFrame.\n",
    "total_mice = clean_df['Mouse ID'].unique()\n",
    "len(total_mice)"
   ]
  },
  {
   "cell_type": "markdown",
   "id": "3054b2b0",
   "metadata": {},
   "source": [
    "# Summary Statistics"
   ]
  },
  {
   "cell_type": "code",
   "execution_count": null,
   "id": "79a4823e",
   "metadata": {},
   "outputs": [],
   "source": [
    "# Using groupby and summary statistical methods to calculate the following properties of each drug regimen: \n",
    "# mean, median, variance, standard deviation, and SEM of the tumor volume. \n",
    "\n",
    "# Calculating Mean values\n",
    "Mean = (round(clean_df.groupby(\"Drug Regimen\")[\"Tumor Volume (mm3)\"].mean(),2))\n",
    "# Calculating Median values\n",
    "Median = (round(clean_df.groupby(\"Drug Regimen\")[\"Tumor Volume (mm3)\"].median(),2))\n",
    "# Calculating Variance values\n",
    "Variance = (round(clean_df.groupby(\"Drug Regimen\")[\"Tumor Volume (mm3)\"].var(),2))\n",
    "# Calculating the Standard Deviation\n",
    "Standard_Dev = (round(clean_df.groupby(\"Drug Regimen\")[\"Tumor Volume (mm3)\"].std(),2))\n",
    "# Calculating the Standard Error\n",
    "SEM = (round(clean_df.groupby(\"Drug Regimen\")[\"Tumor Volume (mm3)\"].sem(),2))"
   ]
  },
  {
   "cell_type": "code",
   "execution_count": null,
   "id": "24878a01",
   "metadata": {},
   "outputs": [],
   "source": [
    "# Calculating Mean values\n",
    "Mean"
   ]
  },
  {
   "cell_type": "code",
   "execution_count": null,
   "id": "103a5e12",
   "metadata": {},
   "outputs": [],
   "source": [
    "# Calculating Median values\n",
    "Median"
   ]
  },
  {
   "cell_type": "code",
   "execution_count": null,
   "id": "f5a77170",
   "metadata": {},
   "outputs": [],
   "source": [
    "# Calculating Variance values\n",
    "Variance"
   ]
  },
  {
   "cell_type": "code",
   "execution_count": null,
   "id": "5673a3ca",
   "metadata": {},
   "outputs": [],
   "source": [
    "# Calculating the Standard Deviation\n",
    "Standard_Dev"
   ]
  },
  {
   "cell_type": "code",
   "execution_count": null,
   "id": "eaa857e4",
   "metadata": {},
   "outputs": [],
   "source": [
    "# Calculating the Standard Error\n",
    "SEM"
   ]
  },
  {
   "cell_type": "code",
   "execution_count": null,
   "id": "e21d7698",
   "metadata": {
    "scrolled": true
   },
   "outputs": [],
   "source": [
    "# Assembling the resulting series into a single summary dataframe.\n",
    "\n",
    "\n",
    "Stat_data = {\n",
    "    \n",
    "    'Drug Regimen':['Capomulin', 'Ceftamin', 'Infubinol', 'Ketapril', 'Naftisol', 'Placebo', 'Propriva', 'Ramicane', \n",
    "                    'Stelasyn', 'Zoniferol'], \n",
    "    'Mean': [40.68, 52.59, 52.88, 55.24, 54.33, 54.03, 52.32, 40.22, 54.23, 53.24],\n",
    "    'Median': [41.56, 51.78, 51.82, 53.70, 52.51, 52.29, 50.45, 40.67, 52.43, 51.8],\n",
    "    'Variance': [24.95, 39.29, 43.13, 68.55, 66.17, 61.17, 43.85, 23.49, 59.45, 48.53],\n",
    "    'Std_Dev':[4.99, 6.27, 6.57, 8.28, 8.13, 7.82, 6.62, 4.85, 7.71, 6.97],\n",
    "    'SEM': [0.33, 0.47, 0.49, 0.60, 0.60, 0.58, 0.54, 0.32, 0.57, 0.52]\n",
    "\n",
    "\n",
    "    }\n",
    "\n",
    "\n",
    "Summary_df=pd.DataFrame(Stat_data)\n",
    "Summary_df"
   ]
  },
  {
   "cell_type": "code",
   "execution_count": null,
   "id": "4c6b904b",
   "metadata": {},
   "outputs": [],
   "source": [
    "# Plotting a histogram to see if the data was evenly distributed\n",
    "plt.hist(clean_df[\"Tumor Volume (mm3)\"])"
   ]
  },
  {
   "cell_type": "code",
   "execution_count": null,
   "id": "2c86116d",
   "metadata": {},
   "outputs": [],
   "source": [
    "st.normaltest(clean_df[\"Tumor Volume (mm3)\"])"
   ]
  },
  {
   "cell_type": "code",
   "execution_count": null,
   "id": "a4010218",
   "metadata": {},
   "outputs": [],
   "source": [
    "#showing the total number of timepoints for all mice tested\n",
    "drug_reg_df = clean_df[\"Drug Regimen\"].value_counts()\n",
    "drug_reg_df"
   ]
  },
  {
   "cell_type": "code",
   "execution_count": null,
   "id": "e950feb6",
   "metadata": {},
   "outputs": [],
   "source": [
    "# Generate a bar plot showing the total number of timepoints for all mice tested for each drug regimen using Pandas\n",
    "bar = drug_reg_df             \n",
    "bar.plot(kind = 'bar')\n",
    "plt.title(\"The total number of timepoints for all mice tested for each drug regimen\")\n",
    "plt.xlabel(\"Drug Regimen\")\n",
    "plt.ylabel(\"Timepoint\")\n",
    "plt.show()"
   ]
  },
  {
   "cell_type": "markdown",
   "id": "bea67698",
   "metadata": {},
   "source": [
    "plt.title(\"The total number of timepoints for all mice tested for each drug regimen\")\n",
    "plt.xlabel(\"Drug Regimen\")\n",
    "plt.ylabel(\"Timepoint\")\n",
    "plt.legend(\"best\")"
   ]
  },
  {
   "cell_type": "code",
   "execution_count": null,
   "id": "7cf53f72",
   "metadata": {},
   "outputs": [],
   "source": [
    "# Generate a bar plot showing the total number of timepoints for all mice tested for each drug \n",
    "#regimen using Matplotlib \n",
    "\n",
    "y_axis = drug_reg_df\n",
    "x_axis= clean_df['Drug Regimen'].unique()\n",
    "plt.bar(x_axis, y_axis)\n",
    "plt.title(\"The total number of timepoints for all mice tested for each drug regimen\")\n",
    "plt.xlabel(\"Drug Regimen\")\n",
    "plt.ylabel(\"Timepoint\")\n",
    "plt.xticks(rotation=90)\n",
    "plt.show()"
   ]
  },
  {
   "cell_type": "code",
   "execution_count": null,
   "id": "c1ece5c6",
   "metadata": {},
   "outputs": [],
   "source": [
    "# Checking for the counts of the sex column\n",
    "total_sex = clean_df['Sex'].value_counts()\n",
    "total_sex"
   ]
  },
  {
   "cell_type": "code",
   "execution_count": null,
   "id": "2f94ad00",
   "metadata": {},
   "outputs": [],
   "source": [
    "# Plotting a pie chart to display the values of sex column \n",
    "pie = total_sex\n",
    "labels = [\"Male\", \"Female\"]\n",
    "colors = [\"lightcoral\", \"lightskyblue\"]\n",
    "explode = [0.1, 0]"
   ]
  },
  {
   "cell_type": "code",
   "execution_count": null,
   "id": "f04cfdbb",
   "metadata": {},
   "outputs": [],
   "source": [
    "# Tell matplotlib to create a pie chart based upon the above \n",
    "plt.pie(pie, explode=explode, labels=labels, colors=colors, \n",
    "        autopct=\"%1.1f%%\", shadow=True, startangle=45)\n",
    "\n",
    "plt.show()"
   ]
  },
  {
   "cell_type": "code",
   "execution_count": null,
   "id": "82a1204a",
   "metadata": {},
   "outputs": [],
   "source": [
    "# Telling Pandas to create a pie chart based upon the above\n",
    "pie_chart = total_sex\n",
    "explode = [0.1, 0]\n",
    "pie_chart.plot(kind = 'pie', fontsize= 12, explode=explode, shadow= True, autopct=\"%1.1f%%\", startangle=40)"
   ]
  },
  {
   "cell_type": "markdown",
   "id": "6679ec10",
   "metadata": {},
   "source": [
    "# Quartiles, Outliers, and Box Plot\n",
    "\n",
    "\n",
    "\n"
   ]
  },
  {
   "cell_type": "code",
   "execution_count": null,
   "id": "2bc3252a",
   "metadata": {},
   "outputs": [],
   "source": [
    "# Checking for the max value of Mouse timepoint\n",
    "\n",
    "sel_df = clean_df.groupby([\"Mouse ID\"])[\"Timepoint\"].max()\n",
    "sel_df"
   ]
  },
  {
   "cell_type": "code",
   "execution_count": null,
   "id": "59c90597",
   "metadata": {},
   "outputs": [],
   "source": [
    "# Merging the two cleaned DataFrame \n",
    "\n",
    "new_df = pd.merge(sel_df,clean_df, on=([\"Mouse ID\",\"Timepoint\"]))\n",
    "new_df.head()"
   ]
  },
  {
   "cell_type": "code",
   "execution_count": null,
   "id": "94e535a9",
   "metadata": {},
   "outputs": [],
   "source": [
    "# Put treatments into a list for for loop (and later for plot labels)\n",
    "\n",
    "prt_drug = [\"Capomulin\", \"Ramicane\", \"Infubinol\", \"Ceftamin\"]\n",
    "\n",
    "# Create empty list to fill with tumor vol data (for plotting)\n",
    "tumor_vol = []\n",
    "\n",
    "for drug in prt_drug:\n",
    "    reg_tum_df = new_df.loc[new_df[\"Drug Regimen\"]== drug]\n",
    "    tumor = reg_tum_df[\"Tumor Volume (mm3)\"]\n",
    "    tumor_vol.append(tumor)\n"
   ]
  },
  {
   "cell_type": "code",
   "execution_count": null,
   "id": "e230fc84",
   "metadata": {},
   "outputs": [],
   "source": [
    "# Calculate the IQR and quantitatively determine if there are any potential outliers. \n",
    "\n",
    "quartiles = tumor_vol[0].quantile([.25,.5,.75])\n",
    "lowerq = quartiles[.25]\n",
    "upperq = quartiles[.75]\n",
    "iqr = upperq - lowerq\n",
    "\n",
    "lowerq_bound = lowerq - (1.5*iqr)\n",
    "upper_bound = upperq + (1.5*iqr)"
   ]
  },
  {
   "cell_type": "code",
   "execution_count": null,
   "id": "7b81d6d9",
   "metadata": {},
   "outputs": [],
   "source": [
    "lowerq_bound"
   ]
  },
  {
   "cell_type": "code",
   "execution_count": null,
   "id": "1adccae4",
   "metadata": {},
   "outputs": [],
   "source": [
    "upper_bound"
   ]
  },
  {
   "cell_type": "code",
   "execution_count": null,
   "id": "43978d9e",
   "metadata": {},
   "outputs": [],
   "source": [
    "# Calculate the IQR and quantitatively determine if there are any potential outliers. \n",
    "\n",
    "quartiles_0 = tumor_vol[1].quantile([.25,.5,.75])\n",
    "lowerq_0 = quartiles_0[.25]\n",
    "upperq_0 = quartiles_0[.75]\n",
    "iqr_0 = upperq_0 - lowerq_0\n",
    "\n",
    "lowerq_bound_0 = lowerq_0 - (1.5*iqr_0)\n",
    "upper_bound_0 = upperq_0 + (1.5*iqr_0)"
   ]
  },
  {
   "cell_type": "code",
   "execution_count": null,
   "id": "e271d588",
   "metadata": {},
   "outputs": [],
   "source": [
    "lowerq_bound_0"
   ]
  },
  {
   "cell_type": "code",
   "execution_count": null,
   "id": "fe449703",
   "metadata": {},
   "outputs": [],
   "source": [
    "upper_bound_0"
   ]
  },
  {
   "cell_type": "code",
   "execution_count": null,
   "id": "78d34e54",
   "metadata": {},
   "outputs": [],
   "source": [
    "# Calculate the IQR and quantitatively determine if there are any potential outliers. \n",
    "\n",
    "quartiles_1 = tumor_vol[2].quantile([.25,.5,.75])\n",
    "lowerq_1 = quartiles_1[.25]\n",
    "upperq_1 = quartiles_1[.75]\n",
    "iqr_1 = upperq_1 - lowerq_1\n",
    "\n",
    "lowerq_bound_1 = lowerq_1 - (1.5*iqr_1)\n",
    "upper_bound_1 = upperq_1 + (1.5*iqr_1)"
   ]
  },
  {
   "cell_type": "code",
   "execution_count": null,
   "id": "388f6a2f",
   "metadata": {},
   "outputs": [],
   "source": [
    "lowerq_bound_1"
   ]
  },
  {
   "cell_type": "code",
   "execution_count": null,
   "id": "dbe8cbe3",
   "metadata": {},
   "outputs": [],
   "source": [
    "upper_bound_1"
   ]
  },
  {
   "cell_type": "code",
   "execution_count": null,
   "id": "c063db67",
   "metadata": {},
   "outputs": [],
   "source": [
    "# Calculate the IQR and quantitatively determine if there are any potential outliers. \n",
    "\n",
    "quartiles_2 = tumor_vol[3].quantile([.25,.5,.75])\n",
    "lowerq_2 = quartiles_2[.25]\n",
    "upperq_2 = quartiles_2[.75]\n",
    "iqr_2 = upperq_2 - lowerq_2\n",
    "\n",
    "lowerq_bound_2 = lowerq_2 - (1.5*iqr_2)\n",
    "upper_bound_2 = upperq_2 + (1.5*iqr_2)"
   ]
  },
  {
   "cell_type": "code",
   "execution_count": null,
   "id": "b4c5c16c",
   "metadata": {},
   "outputs": [],
   "source": [
    "lowerq_bound_2"
   ]
  },
  {
   "cell_type": "code",
   "execution_count": null,
   "id": "68b17c97",
   "metadata": {},
   "outputs": [],
   "source": [
    "upper_bound_2"
   ]
  },
  {
   "cell_type": "code",
   "execution_count": null,
   "id": "78a78cb6",
   "metadata": {},
   "outputs": [],
   "source": [
    "# Showing values for mice treated with Capomulin\n",
    "cap_mouse = clean_df.loc[clean_df[\"Drug Regimen\"]== \"Capomulin\"][\"Mouse ID\"].value_counts()\n",
    "cap_mouse"
   ]
  },
  {
   "cell_type": "code",
   "execution_count": null,
   "id": "a0d69463",
   "metadata": {},
   "outputs": [],
   "source": [
    "# Preparing Mouse with Mouse ID l897 for plotting\n",
    "\n",
    "l897 = clean_df.loc[clean_df[\"Mouse ID\"]== \"l897\"]\n",
    "l897"
   ]
  },
  {
   "cell_type": "code",
   "execution_count": null,
   "id": "fc2c84d3",
   "metadata": {},
   "outputs": [],
   "source": [
    "# Generate a line plot of tumor volume vs. time point for a mouse treated with Capomulin\n",
    "l897['Tumor Volume (mm3)'].plot(label = \"Tumor Volume\")\n",
    "l897['Timepoint'].plot(label = \"Timepoint\")\n",
    "plt.legend()\n",
    "plt.show()"
   ]
  },
  {
   "cell_type": "code",
   "execution_count": null,
   "id": "dbb29193",
   "metadata": {},
   "outputs": [],
   "source": [
    "capo_df = clean_df.loc[clean_df[\"Drug Regimen\"]== \"Capomulin\"]\n",
    "capo_df.head()"
   ]
  },
  {
   "cell_type": "code",
   "execution_count": null,
   "id": "c6499844",
   "metadata": {},
   "outputs": [],
   "source": [
    "# Calculating average tumor volume \n",
    "\n",
    "average_capo = capo_df.groupby([\"Mouse ID\"]).mean()\n",
    "average_capo.head()"
   ]
  },
  {
   "cell_type": "code",
   "execution_count": null,
   "id": "7a10eb55",
   "metadata": {},
   "outputs": [],
   "source": [
    "# Plot colour_intensity versus alcohol on a scatterplot\n",
    "tumor_volume = average_capo['Tumor Volume (mm3)']\n",
    "mouse_weight = average_capo['Weight (g)']\n",
    "plt.scatter(tumor_volume,mouse_weight)\n",
    "plt.xlabel(\"Tumor Volume\")\n",
    "plt.ylabel(\"Mouse Weight\")\n",
    "plt.show()"
   ]
  },
  {
   "cell_type": "code",
   "execution_count": null,
   "id": "3ea313fa",
   "metadata": {},
   "outputs": [],
   "source": [
    "# Calculate the correlation coefficient between mouse weight and average tumor volume\n",
    "print(f\"The correlation coefficient between mouse weight and average tumor volume for the Capomulin regimen is {round(st.pearsonr(tumor_volume,mouse_weight)[0],2)}\")"
   ]
  },
  {
   "cell_type": "code",
   "execution_count": null,
   "id": "c19f981c",
   "metadata": {},
   "outputs": [],
   "source": [
    "reg = np.polyfit(tumor_volume,mouse_weight, deg= 1)\n",
    "reg"
   ]
  },
  {
   "cell_type": "code",
   "execution_count": null,
   "id": "6140afc1",
   "metadata": {},
   "outputs": [],
   "source": [
    "#linear regression model for mouse weight and average tumor volume for the Capomulin regimen\n",
    "trend = np.polyval(reg, tumor_volume)\n",
    "plt.scatter(tumor_volume,mouse_weight)\n",
    "plt.plot(tumor_volume, trend, 'r')"
   ]
  },
  {
   "cell_type": "code",
   "execution_count": null,
   "id": "01e499d9",
   "metadata": {},
   "outputs": [],
   "source": []
  }
 ],
 "metadata": {
  "kernelspec": {
   "display_name": "PythonData",
   "language": "python",
   "name": "pythondata"
  },
  "language_info": {
   "codemirror_mode": {
    "name": "ipython",
    "version": 3
   },
   "file_extension": ".py",
   "mimetype": "text/x-python",
   "name": "python",
   "nbconvert_exporter": "python",
   "pygments_lexer": "ipython3",
   "version": "3.7.7"
  }
 },
 "nbformat": 4,
 "nbformat_minor": 5
}
